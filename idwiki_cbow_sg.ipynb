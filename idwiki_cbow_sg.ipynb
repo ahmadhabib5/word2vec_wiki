{
 "cells": [
  {
   "cell_type": "code",
   "execution_count": 1,
   "id": "generic-power",
   "metadata": {
    "ExecuteTime": {
     "end_time": "2022-04-21T09:28:59.103995Z",
     "start_time": "2022-04-21T09:28:58.701423Z"
    }
   },
   "outputs": [
    {
     "name": "stderr",
     "output_type": "stream",
     "text": [
      "/home/setneg/anaconda3/envs/sklearn/lib/python3.7/site-packages/gensim/similarities/__init__.py:15: UserWarning: The gensim.similarities.levenshtein submodule is disabled, because the optional Levenshtein package <https://pypi.org/project/python-Levenshtein/> is unavailable. Install Levenhstein (e.g. `pip install python-Levenshtein`) to suppress this warning.\n",
      "  warnings.warn(msg)\n"
     ]
    }
   ],
   "source": [
    "import gensim"
   ]
  },
  {
   "cell_type": "code",
   "execution_count": 20,
   "id": "brilliant-transportation",
   "metadata": {
    "ExecuteTime": {
     "end_time": "2022-04-21T22:53:21.984189Z",
     "start_time": "2022-04-21T22:53:21.962375Z"
    }
   },
   "outputs": [
    {
     "data": {
      "text/plain": [
       "'4.0.1'"
      ]
     },
     "execution_count": 20,
     "metadata": {},
     "output_type": "execute_result"
    }
   ],
   "source": [
    "gensim.__version__"
   ]
  },
  {
   "cell_type": "code",
   "execution_count": 10,
   "id": "established-chicago",
   "metadata": {
    "ExecuteTime": {
     "end_time": "2022-04-21T09:48:40.357248Z",
     "start_time": "2022-04-21T09:48:40.340986Z"
    }
   },
   "outputs": [],
   "source": [
    "import time\n",
    "import multiprocessing\n",
    "from datetime import timedelta\n",
    "\n",
    "from gensim.models import word2vec\n",
    "from gensim.test.utils import get_tmpfile\n",
    "\n",
    "from gensim.models.callbacks import CallbackAny2Vec\n",
    "class EpochSaver(CallbackAny2Vec):\n",
    "      \n",
    "    \n",
    "    def __init__(self, path_prefix):\n",
    "        self.path_prefix = path_prefix\n",
    "        self.epoch = 0\n",
    "        self.start_time = 0\n",
    "        self.finish_time = 0\n",
    "        \n",
    "    def on_epoch_begin(self, model):\n",
    "        self.start_time = time.time()\n",
    "        print(\"Epoch #{} start\".format(self.epoch))\n",
    "\n",
    "\n",
    "    def on_epoch_end(self, model):\n",
    "        print(\"Epoch #{} end\".format(self.epoch))\n",
    "        self.finish_time = time.time()\n",
    "        print('Elapsed time Epoch #{}: {}'.format(self.epoch, timedelta(seconds=self.finish_time-self.start_time)))\n",
    "        output_path = get_tmpfile('{}_epoch{}.model'.format(self.path_prefix, self.epoch))\n",
    "        model.save(output_path)\n",
    "        self.epoch += 1"
   ]
  },
  {
   "cell_type": "code",
   "execution_count": 11,
   "id": "three-conference",
   "metadata": {
    "ExecuteTime": {
     "end_time": "2022-04-21T10:23:28.585016Z",
     "start_time": "2022-04-21T09:48:41.139278Z"
    }
   },
   "outputs": [
    {
     "name": "stdout",
     "output_type": "stream",
     "text": [
      "Creating Corpus...\n",
      "Start Training Word2Vec Model...\n",
      "Epoch #0 start\n",
      "Epoch #0 end\n",
      "Elapsed time Epoch #0: 0:03:17.755113\n",
      "Epoch #1 start\n",
      "Epoch #1 end\n",
      "Elapsed time Epoch #1: 0:03:22.832046\n",
      "Epoch #2 start\n",
      "Epoch #2 end\n",
      "Elapsed time Epoch #2: 0:03:18.794456\n",
      "Epoch #3 start\n",
      "Epoch #3 end\n",
      "Elapsed time Epoch #3: 0:03:20.516340\n",
      "Epoch #4 start\n",
      "Epoch #4 end\n",
      "Elapsed time Epoch #4: 0:03:22.523046\n",
      "Epoch #5 start\n",
      "Epoch #5 end\n",
      "Elapsed time Epoch #5: 0:03:21.847453\n",
      "Epoch #6 start\n",
      "Epoch #6 end\n",
      "Elapsed time Epoch #6: 0:03:18.540611\n",
      "Epoch #7 start\n",
      "Epoch #7 end\n",
      "Elapsed time Epoch #7: 0:03:17.860952\n",
      "Epoch #8 start\n",
      "Epoch #8 end\n",
      "Elapsed time Epoch #8: 0:03:19.873374\n",
      "Epoch #9 start\n",
      "Epoch #9 end\n",
      "Elapsed time Epoch #9: 0:03:21.977705\n",
      "Finished. Elapsed time: 0:34:47.428674\n"
     ]
    }
   ],
   "source": [
    "start_time = time.time()\n",
    "print('Creating Corpus...')\n",
    "sentences = word2vec.LineSentence('idwiki.txt')\n",
    "callback = EpochSaver(\"model_every_epoch\")\n",
    "\n",
    "print('Start Training Word2Vec Model...')\n",
    "id_w2v = word2vec.Word2Vec(sentences, vector_size=300, workers=multiprocessing.cpu_count()-1, epochs=10, callbacks=[callback])\n",
    "id_w2v.save('idwiki_word2vec_300_last.model')\n",
    "finish_time = time.time()\n",
    "\n",
    "print('Finished. Elapsed time: {}'.format(timedelta(seconds=finish_time-start_time)))"
   ]
  },
  {
   "cell_type": "code",
   "execution_count": 15,
   "id": "growing-version",
   "metadata": {
    "ExecuteTime": {
     "end_time": "2022-04-21T10:41:45.878394Z",
     "start_time": "2022-04-21T10:41:45.866952Z"
    }
   },
   "outputs": [],
   "source": [
    "import os"
   ]
  },
  {
   "cell_type": "code",
   "execution_count": 18,
   "id": "focused-controversy",
   "metadata": {
    "ExecuteTime": {
     "end_time": "2022-04-21T10:53:28.537623Z",
     "start_time": "2022-04-21T10:53:28.523467Z"
    }
   },
   "outputs": [],
   "source": [
    "class EpochSaver(CallbackAny2Vec):\n",
    "      \n",
    "    \n",
    "    def __init__(self, path_prefix):\n",
    "        self.path_prefix = path_prefix\n",
    "        self.epoch = 0\n",
    "        self.start_time = 0\n",
    "        self.finish_time = 0\n",
    "        \n",
    "    def on_epoch_begin(self, model):\n",
    "        self.start_time = time.time()\n",
    "        print(\"Epoch #{} start\".format(self.epoch))\n",
    "\n",
    "\n",
    "    def on_epoch_end(self, model):\n",
    "        print(\"Epoch #{} end\".format(self.epoch))\n",
    "        self.finish_time = time.time()\n",
    "        print('Elapsed time Epoch #{}: {}'.format(self.epoch, timedelta(seconds=self.finish_time-self.start_time)))\n",
    "        output_path = os.path.join(self.path_prefix, \"idwiki_word2vec_300_last_sq_epoch{}.model\".format(self.epoch))\n",
    "        model.save(output_path)\n",
    "        self.epoch += 1"
   ]
  },
  {
   "cell_type": "code",
   "execution_count": 19,
   "id": "surprising-little",
   "metadata": {
    "ExecuteTime": {
     "end_time": "2022-04-21T12:13:26.801587Z",
     "start_time": "2022-04-21T10:53:30.698501Z"
    }
   },
   "outputs": [
    {
     "name": "stdout",
     "output_type": "stream",
     "text": [
      "Creating Corpus...\n",
      "Start Training Word2Vec Model...\n",
      "Epoch #0 start\n",
      "Epoch #0 end\n",
      "Elapsed time Epoch #0: 0:07:39.445532\n",
      "Epoch #1 start\n",
      "Epoch #1 end\n",
      "Elapsed time Epoch #1: 0:07:44.569143\n",
      "Epoch #2 start\n",
      "Epoch #2 end\n",
      "Elapsed time Epoch #2: 0:07:54.668850\n",
      "Epoch #3 start\n",
      "Epoch #3 end\n",
      "Elapsed time Epoch #3: 0:08:04.196679\n",
      "Epoch #4 start\n",
      "Epoch #4 end\n",
      "Elapsed time Epoch #4: 0:07:50.081711\n",
      "Epoch #5 start\n",
      "Epoch #5 end\n",
      "Elapsed time Epoch #5: 0:07:40.845050\n",
      "Epoch #6 start\n",
      "Epoch #6 end\n",
      "Elapsed time Epoch #6: 0:07:48.999962\n",
      "Epoch #7 start\n",
      "Epoch #7 end\n",
      "Elapsed time Epoch #7: 0:07:43.239083\n",
      "Epoch #8 start\n",
      "Epoch #8 end\n",
      "Elapsed time Epoch #8: 0:07:44.751890\n",
      "Epoch #9 start\n",
      "Epoch #9 end\n",
      "Elapsed time Epoch #9: 0:07:53.042851\n",
      "Finished. Elapsed time: 1:19:56.092950\n"
     ]
    }
   ],
   "source": [
    "start_time = time.time()\n",
    "print('Creating Corpus...')\n",
    "sentences = word2vec.LineSentence('idwiki.txt')\n",
    "callback = EpochSaver(\"skip-gram\")\n",
    "\n",
    "print('Start Training Word2Vec Model...')\n",
    "id_w2v = word2vec.Word2Vec(sentences, vector_size=300, workers=multiprocessing.cpu_count()-1, epochs=10, callbacks=[callback], sg=1)\n",
    "id_w2v.save('idwiki_word2vec_300_last_sq.model')\n",
    "finish_time = time.time()\n",
    "\n",
    "print('Finished. Elapsed time: {}'.format(timedelta(seconds=finish_time-start_time)))"
   ]
  },
  {
   "cell_type": "code",
   "execution_count": null,
   "id": "indonesian-certificate",
   "metadata": {},
   "outputs": [],
   "source": []
  }
 ],
 "metadata": {
  "kernelspec": {
   "display_name": "sklearn",
   "language": "python",
   "name": "sklearn"
  },
  "language_info": {
   "codemirror_mode": {
    "name": "ipython",
    "version": 3
   },
   "file_extension": ".py",
   "mimetype": "text/x-python",
   "name": "python",
   "nbconvert_exporter": "python",
   "pygments_lexer": "ipython3",
   "version": "3.7.10"
  },
  "varInspector": {
   "cols": {
    "lenName": 16,
    "lenType": 16,
    "lenVar": 40
   },
   "kernels_config": {
    "python": {
     "delete_cmd_postfix": "",
     "delete_cmd_prefix": "del ",
     "library": "var_list.py",
     "varRefreshCmd": "print(var_dic_list())"
    },
    "r": {
     "delete_cmd_postfix": ") ",
     "delete_cmd_prefix": "rm(",
     "library": "var_list.r",
     "varRefreshCmd": "cat(var_dic_list()) "
    }
   },
   "types_to_exclude": [
    "module",
    "function",
    "builtin_function_or_method",
    "instance",
    "_Feature"
   ],
   "window_display": false
  }
 },
 "nbformat": 4,
 "nbformat_minor": 5
}
